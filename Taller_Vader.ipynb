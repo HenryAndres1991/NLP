{
 "cells": [
  {
   "cell_type": "markdown",
   "metadata": {},
   "source": [
    "<img src='https://encrypted-tbn0.gstatic.com/images?q=tbn%3AANd9GcQ-VfNtOyJbsaxu43Kztf_cv1mgBG6ZIQZEVw&usqp=CAU'>\n",
    "\n",
    "# Procesamiento de Lenguaje Natural\n",
    "\n",
    "## Taller #12: Análisis de sentimiento\n",
    "`Fecha de entrega: Mayo 27, 2021 (Antes del inicio de la próxima clase).`\n",
    "\n",
    "`Modo de entrega: Subir link de GitHub al aula virtual.`"
   ]
  },
  {
   "cell_type": "markdown",
   "metadata": {},
   "source": [
    "###  `[25 pts]` Punto 1: Hacer análisis de sentimiento de los datos del anterior taller\n",
    "- Columna con el puntaje numérico del sentimiento\n",
    "- Pueden usar cualquiera de las librerias vistas en clase"
   ]
  },
  {
   "cell_type": "code",
   "execution_count": 1,
   "metadata": {},
   "outputs": [],
   "source": [
    "import re\n",
    "import json\n",
    "import pandas as pd\n",
    "\n",
    "from nltk.corpus import stopwords\n",
    "from sklearn.feature_extraction.text import TfidfVectorizer\n",
    "stopwords_sp = stopwords.words('spanish')\n",
    "\n",
    "from sklearn.neighbors import NearestNeighbors\n",
    "from sklearn.cluster import KMeans\n",
    "from sklearn.decomposition import PCA\n",
    "\n",
    "import matplotlib.pyplot as plt\n",
    "import plotly.graph_objs as go\n",
    "from plotly.offline import iplot"
   ]
  },
  {
   "cell_type": "code",
   "execution_count": 2,
   "metadata": {},
   "outputs": [
    {
     "data": {
      "text/html": [
       "<div>\n",
       "<style scoped>\n",
       "    .dataframe tbody tr th:only-of-type {\n",
       "        vertical-align: middle;\n",
       "    }\n",
       "\n",
       "    .dataframe tbody tr th {\n",
       "        vertical-align: top;\n",
       "    }\n",
       "\n",
       "    .dataframe thead th {\n",
       "        text-align: right;\n",
       "    }\n",
       "</style>\n",
       "<table border=\"1\" class=\"dataframe\">\n",
       "  <thead>\n",
       "    <tr style=\"text-align: right;\">\n",
       "      <th></th>\n",
       "      <th>tweet</th>\n",
       "      <th>date</th>\n",
       "      <th>link</th>\n",
       "    </tr>\n",
       "  </thead>\n",
       "  <tbody>\n",
       "    <tr>\n",
       "      <th>0</th>\n",
       "      <td>If you've ever worried about facial recognitio...</td>\n",
       "      <td>2021-05-20 15:07:58</td>\n",
       "      <td>https://twitter.com/i/web/status/1395395883814...</td>\n",
       "    </tr>\n",
       "    <tr>\n",
       "      <th>1</th>\n",
       "      <td>ostdoc on Proton Structure Studies with Machin...</td>\n",
       "      <td>2021-05-20 15:07:50</td>\n",
       "      <td>https://twitter.com/i/web/status/1395395850663...</td>\n",
       "    </tr>\n",
       "    <tr>\n",
       "      <th>2</th>\n",
       "      <td>Is Artificial Intelligence/Machine Learning Re...</td>\n",
       "      <td>2021-05-20 15:07:44</td>\n",
       "      <td>https://twitter.com/i/web/status/1395395823220...</td>\n",
       "    </tr>\n",
       "    <tr>\n",
       "      <th>3</th>\n",
       "      <td>End-to-End IoT analytics and machine learning ...</td>\n",
       "      <td>2021-05-20 15:06:46</td>\n",
       "      <td>https://twitter.com/i/web/status/1395395582819...</td>\n",
       "    </tr>\n",
       "    <tr>\n",
       "      <th>4</th>\n",
       "      <td>Graph algorithms combined with machine learnin...</td>\n",
       "      <td>2021-05-20 15:06:30</td>\n",
       "      <td>https://twitter.com/i/web/status/1395395514070...</td>\n",
       "    </tr>\n",
       "  </tbody>\n",
       "</table>\n",
       "</div>"
      ],
      "text/plain": [
       "                                               tweet                 date  \\\n",
       "0  If you've ever worried about facial recognitio...  2021-05-20 15:07:58   \n",
       "1  ostdoc on Proton Structure Studies with Machin...  2021-05-20 15:07:50   \n",
       "2  Is Artificial Intelligence/Machine Learning Re...  2021-05-20 15:07:44   \n",
       "3  End-to-End IoT analytics and machine learning ...  2021-05-20 15:06:46   \n",
       "4  Graph algorithms combined with machine learnin...  2021-05-20 15:06:30   \n",
       "\n",
       "                                                link  \n",
       "0  https://twitter.com/i/web/status/1395395883814...  \n",
       "1  https://twitter.com/i/web/status/1395395850663...  \n",
       "2  https://twitter.com/i/web/status/1395395823220...  \n",
       "3  https://twitter.com/i/web/status/1395395582819...  \n",
       "4  https://twitter.com/i/web/status/1395395514070...  "
      ]
     },
     "execution_count": 2,
     "metadata": {},
     "output_type": "execute_result"
    }
   ],
   "source": [
    "data = pd.read_csv(\"machine_learning.csv\")\n",
    "data.head()"
   ]
  },
  {
   "cell_type": "code",
   "execution_count": 10,
   "metadata": {},
   "outputs": [
    {
     "data": {
      "text/html": [
       "<div>\n",
       "<style scoped>\n",
       "    .dataframe tbody tr th:only-of-type {\n",
       "        vertical-align: middle;\n",
       "    }\n",
       "\n",
       "    .dataframe tbody tr th {\n",
       "        vertical-align: top;\n",
       "    }\n",
       "\n",
       "    .dataframe thead th {\n",
       "        text-align: right;\n",
       "    }\n",
       "</style>\n",
       "<table border=\"1\" class=\"dataframe\">\n",
       "  <thead>\n",
       "    <tr style=\"text-align: right;\">\n",
       "      <th></th>\n",
       "      <th>tweet</th>\n",
       "      <th>date</th>\n",
       "      <th>link</th>\n",
       "      <th>sent_vader</th>\n",
       "    </tr>\n",
       "  </thead>\n",
       "  <tbody>\n",
       "    <tr>\n",
       "      <th>0</th>\n",
       "      <td>If you've ever worried about facial recognitio...</td>\n",
       "      <td>2021-05-20 15:07:58</td>\n",
       "      <td>https://twitter.com/i/web/status/1395395883814...</td>\n",
       "      <td>-0.1179</td>\n",
       "    </tr>\n",
       "    <tr>\n",
       "      <th>1</th>\n",
       "      <td>ostdoc on Proton Structure Studies with Machin...</td>\n",
       "      <td>2021-05-20 15:07:50</td>\n",
       "      <td>https://twitter.com/i/web/status/1395395850663...</td>\n",
       "      <td>0.0000</td>\n",
       "    </tr>\n",
       "    <tr>\n",
       "      <th>2</th>\n",
       "      <td>Is Artificial Intelligence/Machine Learning Re...</td>\n",
       "      <td>2021-05-20 15:07:44</td>\n",
       "      <td>https://twitter.com/i/web/status/1395395823220...</td>\n",
       "      <td>0.5106</td>\n",
       "    </tr>\n",
       "    <tr>\n",
       "      <th>3</th>\n",
       "      <td>End-to-End IoT analytics and machine learning ...</td>\n",
       "      <td>2021-05-20 15:06:46</td>\n",
       "      <td>https://twitter.com/i/web/status/1395395582819...</td>\n",
       "      <td>0.0000</td>\n",
       "    </tr>\n",
       "    <tr>\n",
       "      <th>4</th>\n",
       "      <td>Graph algorithms combined with machine learnin...</td>\n",
       "      <td>2021-05-20 15:06:30</td>\n",
       "      <td>https://twitter.com/i/web/status/1395395514070...</td>\n",
       "      <td>-0.4654</td>\n",
       "    </tr>\n",
       "    <tr>\n",
       "      <th>...</th>\n",
       "      <td>...</td>\n",
       "      <td>...</td>\n",
       "      <td>...</td>\n",
       "      <td>...</td>\n",
       "    </tr>\n",
       "    <tr>\n",
       "      <th>95</th>\n",
       "      <td>More businesses than ever are seeking coders &amp;...</td>\n",
       "      <td>2021-05-20 14:47:20</td>\n",
       "      <td>https://twitter.com/i/web/status/1395390691459...</td>\n",
       "      <td>0.7777</td>\n",
       "    </tr>\n",
       "    <tr>\n",
       "      <th>96</th>\n",
       "      <td>Machine Learning (Chinese Edition) https://t.c...</td>\n",
       "      <td>2021-05-20 14:46:57</td>\n",
       "      <td>https://twitter.com/i/web/status/1395390592557...</td>\n",
       "      <td>0.0000</td>\n",
       "    </tr>\n",
       "    <tr>\n",
       "      <th>97</th>\n",
       "      <td>1. Automating processes, improving efficiencie...</td>\n",
       "      <td>2021-05-20 14:46:48</td>\n",
       "      <td>https://twitter.com/i/web/status/1395390557048...</td>\n",
       "      <td>0.7579</td>\n",
       "    </tr>\n",
       "    <tr>\n",
       "      <th>98</th>\n",
       "      <td>@nwnancy @pyliu47 Exactly. This is not my area...</td>\n",
       "      <td>2021-05-20 14:46:07</td>\n",
       "      <td>https://twitter.com/i/web/status/1395390384927...</td>\n",
       "      <td>0.0000</td>\n",
       "    </tr>\n",
       "    <tr>\n",
       "      <th>99</th>\n",
       "      <td>@SASsoftware @GeorgiaPacific Roshan Shah's mac...</td>\n",
       "      <td>2021-05-20 14:45:36</td>\n",
       "      <td>https://twitter.com/i/web/status/1395390254568...</td>\n",
       "      <td>0.8653</td>\n",
       "    </tr>\n",
       "  </tbody>\n",
       "</table>\n",
       "<p>100 rows × 4 columns</p>\n",
       "</div>"
      ],
      "text/plain": [
       "                                                tweet                 date  \\\n",
       "0   If you've ever worried about facial recognitio...  2021-05-20 15:07:58   \n",
       "1   ostdoc on Proton Structure Studies with Machin...  2021-05-20 15:07:50   \n",
       "2   Is Artificial Intelligence/Machine Learning Re...  2021-05-20 15:07:44   \n",
       "3   End-to-End IoT analytics and machine learning ...  2021-05-20 15:06:46   \n",
       "4   Graph algorithms combined with machine learnin...  2021-05-20 15:06:30   \n",
       "..                                                ...                  ...   \n",
       "95  More businesses than ever are seeking coders &...  2021-05-20 14:47:20   \n",
       "96  Machine Learning (Chinese Edition) https://t.c...  2021-05-20 14:46:57   \n",
       "97  1. Automating processes, improving efficiencie...  2021-05-20 14:46:48   \n",
       "98  @nwnancy @pyliu47 Exactly. This is not my area...  2021-05-20 14:46:07   \n",
       "99  @SASsoftware @GeorgiaPacific Roshan Shah's mac...  2021-05-20 14:45:36   \n",
       "\n",
       "                                                 link  sent_vader  \n",
       "0   https://twitter.com/i/web/status/1395395883814...     -0.1179  \n",
       "1   https://twitter.com/i/web/status/1395395850663...      0.0000  \n",
       "2   https://twitter.com/i/web/status/1395395823220...      0.5106  \n",
       "3   https://twitter.com/i/web/status/1395395582819...      0.0000  \n",
       "4   https://twitter.com/i/web/status/1395395514070...     -0.4654  \n",
       "..                                                ...         ...  \n",
       "95  https://twitter.com/i/web/status/1395390691459...      0.7777  \n",
       "96  https://twitter.com/i/web/status/1395390592557...      0.0000  \n",
       "97  https://twitter.com/i/web/status/1395390557048...      0.7579  \n",
       "98  https://twitter.com/i/web/status/1395390384927...      0.0000  \n",
       "99  https://twitter.com/i/web/status/1395390254568...      0.8653  \n",
       "\n",
       "[100 rows x 4 columns]"
      ]
     },
     "execution_count": 10,
     "metadata": {},
     "output_type": "execute_result"
    }
   ],
   "source": [
    "from vaderSentiment.vaderSentiment import SentimentIntensityAnalyzer\n",
    "vader = SentimentIntensityAnalyzer()\n",
    "\n",
    "\n",
    "\n",
    "data['sent_vader'] = data['tweet'].apply(lambda val: vader.polarity_scores(val)['compound'])\n",
    "\n",
    "\n",
    "data"
   ]
  },
  {
   "cell_type": "markdown",
   "metadata": {},
   "source": [
    "###  `[10 pts]` Punto 2: ¿Cuál es el tuit más positivo y más negativo?"
   ]
  },
  {
   "cell_type": "code",
   "execution_count": 19,
   "metadata": {},
   "outputs": [
    {
     "data": {
      "text/plain": [
       "tweet         If you've ever worried about facial recognitio...\n",
       "date                                        2021-05-20 15:07:58\n",
       "link          https://twitter.com/i/web/status/1395395883814...\n",
       "sent_vader                                              -0.1179\n",
       "Name: 0, dtype: object"
      ]
     },
     "execution_count": 19,
     "metadata": {},
     "output_type": "execute_result"
    }
   ],
   "source": [
    "data.iloc[0][:]"
   ]
  },
  {
   "cell_type": "code",
   "execution_count": 21,
   "metadata": {},
   "outputs": [
    {
     "data": {
      "text/plain": [
       "tweet         @SASsoftware @GeorgiaPacific Roshan Shah's mac...\n",
       "date                                        2021-05-20 14:45:36\n",
       "link          https://twitter.com/i/web/status/1395390254568...\n",
       "sent_vader                                               0.8653\n",
       "Name: 99, dtype: object"
      ]
     },
     "execution_count": 21,
     "metadata": {},
     "output_type": "execute_result"
    }
   ],
   "source": [
    "data.iloc[99][:]"
   ]
  }
 ],
 "metadata": {
  "kernelspec": {
   "display_name": "Python 3",
   "language": "python",
   "name": "python3"
  },
  "language_info": {
   "codemirror_mode": {
    "name": "ipython",
    "version": 3
   },
   "file_extension": ".py",
   "mimetype": "text/x-python",
   "name": "python",
   "nbconvert_exporter": "python",
   "pygments_lexer": "ipython3",
   "version": "3.8.8"
  }
 },
 "nbformat": 4,
 "nbformat_minor": 2
}
